{
 "cells": [
  {
   "cell_type": "code",
   "execution_count": 1,
   "id": "d5dea269",
   "metadata": {},
   "outputs": [],
   "source": [
    "from sklearn.feature_extraction.text import TfidfVectorizer\n",
    "from sklearn.metrics.pairwise import cosine_similarity"
   ]
  },
  {
   "cell_type": "code",
   "execution_count": 5,
   "id": "5302c5e4",
   "metadata": {},
   "outputs": [],
   "source": [
    "import pandas as pd\n",
    "import numpy as np\n",
    "import matplotlib.pyplot as plt\n",
    "import seaborn as sns"
   ]
  },
  {
   "cell_type": "code",
   "execution_count": 6,
   "id": "3daeb82b",
   "metadata": {},
   "outputs": [],
   "source": [
    "customers = pd.read_csv(\"Customers.csv\")\n",
    "products = pd.read_csv(\"Products.csv\")\n",
    "transactions = pd.read_csv(\"Transactions.csv\")\n"
   ]
  },
  {
   "cell_type": "code",
   "execution_count": 7,
   "id": "a27b3d4e",
   "metadata": {},
   "outputs": [],
   "source": [
    "customers['SignupDate'] = pd.to_datetime(customers['SignupDate'])\n",
    "transactions['TransactionDate'] = pd.to_datetime(transactions['TransactionDate'])\n"
   ]
  },
  {
   "cell_type": "code",
   "execution_count": 8,
   "id": "9b9bcf8f",
   "metadata": {},
   "outputs": [],
   "source": [
    "merged_data = transactions.merge(customers, on=\"CustomerID\").merge(products, on=\"ProductID\")"
   ]
  },
  {
   "cell_type": "code",
   "execution_count": 9,
   "id": "cdcde44b",
   "metadata": {},
   "outputs": [],
   "source": [
    "customer_profiles = merged_data.groupby('CustomerID').agg({\n",
    "    'Category': lambda x: ' '.join(x),  # Combine product categories as a single string\n",
    "    'TotalValue': 'sum',  # Total spending\n",
    "    'Region': 'first'  # Region information\n",
    "}).reset_index()"
   ]
  },
  {
   "cell_type": "code",
   "execution_count": 10,
   "id": "d9daf2a8",
   "metadata": {},
   "outputs": [],
   "source": [
    "vectorizer = TfidfVectorizer()\n",
    "tfidf_matrix = vectorizer.fit_transform(customer_profiles['Category'])"
   ]
  },
  {
   "cell_type": "code",
   "execution_count": 11,
   "id": "3da86d8c",
   "metadata": {},
   "outputs": [],
   "source": [
    "# Add spending and region information to the vector\n",
    "customer_profiles['RegionEncoded'] = customer_profiles['Region'].astype('category').cat.codes\n",
    "additional_features = customer_profiles[['TotalValue', 'RegionEncoded']].values"
   ]
  },
  {
   "cell_type": "code",
   "execution_count": 12,
   "id": "13f379e5",
   "metadata": {},
   "outputs": [],
   "source": [
    "# Combine vectors and calculate similarity scores\n",
    "similarity_matrix = cosine_similarity(\n",
    "    np.hstack([tfidf_matrix.toarray(), additional_features])\n",
    ")"
   ]
  },
  {
   "cell_type": "code",
   "execution_count": 13,
   "id": "513ef6bd",
   "metadata": {},
   "outputs": [],
   "source": [
    "lookalikes = {}\n",
    "for idx in range(20):  # First 20 customers\n",
    "    customer_id = customer_profiles.iloc[idx]['CustomerID']\n",
    "    similarity_scores = list(enumerate(similarity_matrix[idx]))\n",
    "    sorted_scores = sorted(similarity_scores, key=lambda x: x[1], reverse=True)[1:4]\n",
    "    lookalikes[customer_id] = [(customer_profiles.iloc[i]['CustomerID'], score) for i, score in sorted_scores]"
   ]
  },
  {
   "cell_type": "code",
   "execution_count": null,
   "id": "208fc74b",
   "metadata": {},
   "outputs": [],
   "source": []
  }
 ],
 "metadata": {
  "kernelspec": {
   "display_name": "Python 3 (ipykernel)",
   "language": "python",
   "name": "python3"
  },
  "language_info": {
   "codemirror_mode": {
    "name": "ipython",
    "version": 3
   },
   "file_extension": ".py",
   "mimetype": "text/x-python",
   "name": "python",
   "nbconvert_exporter": "python",
   "pygments_lexer": "ipython3",
   "version": "3.11.5"
  }
 },
 "nbformat": 4,
 "nbformat_minor": 5
}
